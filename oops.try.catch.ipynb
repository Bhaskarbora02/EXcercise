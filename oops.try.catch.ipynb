{
 "cells": [
  {
   "cell_type": "code",
   "execution_count": 1,
   "id": "a8dec3ab",
   "metadata": {},
   "outputs": [],
   "source": [
    "class Car:\n",
    "    def __init__(self, name):\n",
    "        self.name= name \n",
    "\n",
    "\n",
    "cr =  Car(\"BMW\")\n"
   ]
  },
  {
   "cell_type": "code",
   "execution_count": 2,
   "id": "f565898e",
   "metadata": {},
   "outputs": [],
   "source": [
    "class Car:\n",
    "    def __init__(self, name,price,colour):\n",
    "        self.name= name \n",
    "        self.price=price\n",
    "        self.colour=colour\n",
    "\n",
    "\n",
    "cr =  Car(\"BMW\",\"120000\",\"red\")"
   ]
  },
  {
   "cell_type": "code",
   "execution_count": 3,
   "id": "509f4b84",
   "metadata": {},
   "outputs": [
    {
     "name": "stdout",
     "output_type": "stream",
     "text": [
      "speed of car is 250 Kmph\n",
      "sound of car is High\n"
     ]
    }
   ],
   "source": [
    "class Car:\n",
    "    def __init__(self, name,price,colour):\n",
    "        self.name= name \n",
    "        self.price=price\n",
    "        self.colour=colour\n",
    "    def sound(self):\n",
    "        self.snd=\"High\"\n",
    "        return self.snd\n",
    "    \n",
    "    def speed(self):\n",
    "        self.spd=\"250 Kmph\"\n",
    "        return self.spd\n",
    "    \n",
    "    def display(self):\n",
    "        print(\"speed of car is\",self.speed())\n",
    "        print(\"sound of car is\",self.sound())\n",
    "\n",
    "cr =  Car(\"BMW\",\"120000\",\"red\")\n",
    "cr.display()"
   ]
  },
  {
   "cell_type": "code",
   "execution_count": null,
   "id": "2b2ffb49",
   "metadata": {},
   "outputs": [],
   "source": [
    "\n"
   ]
  },
  {
   "cell_type": "code",
   "execution_count": 4,
   "id": "e8f32038",
   "metadata": {},
   "outputs": [
    {
     "name": "stdout",
     "output_type": "stream",
     "text": [
      "speed of car is 250 Kmph\n",
      "sound of car is High\n"
     ]
    }
   ],
   "source": [
    "class Car:\n",
    "    def __init__(self, name,price,colour):\n",
    "        self.name= name \n",
    "        self.price=price\n",
    "        self.colour=colour\n",
    "    def sound(self):\n",
    "        self.snd=\"High\"\n",
    "        return self.snd\n",
    "    \n",
    "    def speed(self):\n",
    "        self.spd=\"250 Kmph\"\n",
    "        return self.spd\n",
    "    \n",
    "    def display(self):\n",
    "        print(\"speed of car is\",self.speed())\n",
    "        print(\"sound of car is\",self.sound())\n",
    "\n",
    "cr =  Car(\"BMW\",\"120000\",\"red\")\n",
    "cr.display()"
   ]
  },
  {
   "cell_type": "code",
   "execution_count": 5,
   "id": "21baf365",
   "metadata": {},
   "outputs": [
    {
     "name": "stdout",
     "output_type": "stream",
     "text": [
      "speed of car is 250 Kmph\n",
      "sound of car is High\n",
      "speed of car is 250 Kmph\n",
      "sound of car is High\n"
     ]
    }
   ],
   "source": [
    "class thar(Car):\n",
    "    def  __init__(self,name):\n",
    "        self.name=name\n",
    "       \n",
    "\n",
    "    \n",
    "    \n",
    "th=thar(\"Thar\")        \n",
    "th.display() \n",
    "\n",
    "tht=thar(\"new_thar\")\n",
    "tht.display()\n",
    "        "
   ]
  },
  {
   "cell_type": "code",
   "execution_count": null,
   "id": "7ad5725b",
   "metadata": {},
   "outputs": [],
   "source": [
    "\n"
   ]
  },
  {
   "cell_type": "code",
   "execution_count": 6,
   "id": "d0376fe7",
   "metadata": {},
   "outputs": [],
   "source": [
    "def zero_div(x, y):\n",
    "    try:     \n",
    "        return x / y\n",
    "    except ZeroDivisionError:\n",
    "        print(\"Please enter y value except 0 \")"
   ]
  },
  {
   "cell_type": "code",
   "execution_count": 8,
   "id": "9149b453",
   "metadata": {},
   "outputs": [
    {
     "name": "stdout",
     "output_type": "stream",
     "text": [
      "Enter x value :5\n",
      "Enter y value :0\n",
      "Please enter y value except 0 \n"
     ]
    }
   ],
   "source": [
    "x=int(input(\"Enter x value :\"))\n",
    "y=int(input(\"Enter y value :\"))\n",
    "zero_div(x,y)"
   ]
  },
  {
   "cell_type": "code",
   "execution_count": null,
   "id": "ec1a314b",
   "metadata": {},
   "outputs": [],
   "source": []
  }
 ],
 "metadata": {
  "kernelspec": {
   "display_name": "Python 3 (ipykernel)",
   "language": "python",
   "name": "python3"
  },
  "language_info": {
   "codemirror_mode": {
    "name": "ipython",
    "version": 3
   },
   "file_extension": ".py",
   "mimetype": "text/x-python",
   "name": "python",
   "nbconvert_exporter": "python",
   "pygments_lexer": "ipython3",
   "version": "3.9.7"
  }
 },
 "nbformat": 4,
 "nbformat_minor": 5
}
